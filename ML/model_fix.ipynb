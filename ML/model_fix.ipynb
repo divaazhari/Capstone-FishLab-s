{
  "cells": [
    {
      "cell_type": "code",
      "execution_count": null,
      "metadata": {
        "colab": {
          "base_uri": "https://localhost:8080/"
        },
        "id": "I8zKqJTvcoH1",
        "outputId": "c636132a-74df-43ac-9082-333e3a1c8458"
      },
      "outputs": [
        {
          "output_type": "stream",
          "name": "stdout",
          "text": [
            "Mounted at /content/drive\n"
          ]
        }
      ],
      "source": [
        "# Google Drive and Colab are connected using this\n",
        "gcolab = 1\n",
        "if gcolab:\n",
        "    from google.colab import drive\n",
        "    drive.mount('/content/drive')"
      ]
    },
    {
      "cell_type": "code",
      "execution_count": null,
      "metadata": {
        "id": "D_R5Ll1Yc1DB"
      },
      "outputs": [],
      "source": [
        "# Import all required library\n",
        "!pip install split-folders\n",
        "import os\n",
        "import shutil\n",
        "import splitfolders\n",
        "import numpy as np\n",
        "import seaborn as sns\n",
        "import time\n",
        "import matplotlib.image as mpimg\n",
        "import matplotlib.pyplot as plt\n",
        "import tensorflow as tf\n",
        "from tensorflow.keras.preprocessing.image import ImageDataGenerator\n",
        "from tensorflow.keras.optimizers import Adam\n",
        "from tensorflow.keras.callbacks import ModelCheckpoint\n",
        "from tensorflow.keras.layers import Dense, Flatten, BatchNormalization, Dropout\n",
        "from tensorflow.keras.models import load_model\n",
        "from google.colab import files\n",
        "from tensorflow.keras.preprocessing import image\n",
        "from tensorflow.keras.preprocessing.image import img_to_array"
      ]
    },
    {
      "cell_type": "code",
      "execution_count": null,
      "metadata": {
        "id": "FDL4rx6Nc7gk"
      },
      "outputs": [],
      "source": [
        "tf.random.set_seed(2023)"
      ]
    },
    {
      "cell_type": "code",
      "execution_count": null,
      "metadata": {
        "colab": {
          "base_uri": "https://localhost:8080/"
        },
        "id": "AHodFe6zc-CN",
        "outputId": "92c2b343-3108-4514-b971-775cca5ed49d"
      },
      "outputs": [
        {
          "output_type": "stream",
          "name": "stderr",
          "text": [
            "Copying files: 1650 files [18:00,  1.53 files/s]\n"
          ]
        }
      ],
      "source": [
        "# Make a directory that holds the complete dataset\n",
        "\n",
        "os.mkdir(\"./Dataset Jenis Ikan/\")\n",
        "splitfolders.ratio(\"/content/drive/MyDrive/fishlab_dataset-2\", output=\"./Dataset Jenis Ikan\", seed=2023, ratio=(.80, 0.20), group_prefix=None)"
      ]
    },
    {
      "cell_type": "code",
      "execution_count": null,
      "metadata": {
        "colab": {
          "base_uri": "https://localhost:8080/"
        },
        "id": "stjcz7Ql-N44",
        "outputId": "f7f264cd-73ae-4e0c-af01-7053ad7ba17a"
      },
      "outputs": [
        {
          "output_type": "stream",
          "name": "stdout",
          "text": [
            "The amount of training data: 1320\n",
            "The amount of validation data: 330\n"
          ]
        }
      ],
      "source": [
        "output_folder = \"./Dataset Jenis Ikan\"\n",
        "\n",
        "# Calculating the number of training data\n",
        "train_folder = os.path.join(output_folder, \"train\")\n",
        "num_train_samples = sum(len(files) for _, _, files in os.walk(train_folder))\n",
        "\n",
        "# Calculating the number of validation data\n",
        "val_folder = os.path.join(output_folder, \"val\")\n",
        "num_val_samples = sum(len(files) for _, _, files in os.walk(val_folder))\n",
        "\n",
        "# Showing the quantity of both training and validation data\n",
        "print(\"The amount of training data:\", num_train_samples)\n",
        "print(\"The amount of validation data:\", num_val_samples)\n"
      ]
    },
    {
      "cell_type": "code",
      "execution_count": null,
      "metadata": {
        "colab": {
          "base_uri": "https://localhost:8080/"
        },
        "id": "WD7zcHOL6Z-0",
        "outputId": "eb6088ce-543f-4cf4-d9dc-d65595b0bb49"
      },
      "outputs": [
        {
          "output_type": "stream",
          "name": "stderr",
          "text": [
            "Copying files: 1320 files [00:01, 710.80 files/s]\n"
          ]
        }
      ],
      "source": [
        "# Make a directory containing the train's historical data so that it may be analyzed\n",
        "splitfolders.ratio(\"./Dataset Jenis Ikan/train\",\n",
        "                   output=\"./Data Analisis Jenis Ikan\",\n",
        "                   seed=2023, ratio=(.80, .20),\n",
        "                   group_prefix=None)"
      ]
    },
    {
      "cell_type": "code",
      "execution_count": null,
      "metadata": {
        "colab": {
          "base_uri": "https://localhost:8080/"
        },
        "id": "L5Lwx28vRcCQ",
        "outputId": "9d782ff5-6a95-4840-f8ed-a0e4e6f69713"
      },
      "outputs": [
        {
          "output_type": "stream",
          "name": "stdout",
          "text": [
            "Found 1038 images belonging to 24 classes.\n",
            "Found 282 images belonging to 24 classes.\n"
          ]
        }
      ],
      "source": [
        "# Preprocessing Data: Images Augmentation\n",
        "Training_dir = './Data Analisis Jenis Ikan/train'\n",
        "train_datagen = ImageDataGenerator(rescale=1.0 / 255,\n",
        "                                   rotation_range=40,\n",
        "                                   width_shift_range=0.1,\n",
        "                                   height_shift_range=0.1,\n",
        "                                   shear_range=0.1,\n",
        "                                   zoom_range=0.5, #0.2 >>> 1\n",
        "                                   horizontal_flip=True,\n",
        "                                   fill_mode='nearest')\n",
        "\n",
        "\n",
        "train_generator = train_datagen.flow_from_directory(Training_dir,\n",
        "                                                    batch_size=32,\n",
        "                                                    class_mode='categorical',\n",
        "                                                    target_size=(224, 224))\n",
        "Validation_dir = './Data Analisis Jenis Ikan/val'\n",
        "validation_datagen = ImageDataGenerator(rescale = 1 / 255)\n",
        "\n",
        "validation_generator = validation_datagen.flow_from_directory(Validation_dir,\n",
        "                                                              batch_size=32, #berubah dari 32 ke 16\n",
        "                                                              class_mode  = 'categorical',\n",
        "                                                              target_size = (224, 224))"
      ]
    },
    {
      "cell_type": "code",
      "execution_count": null,
      "metadata": {
        "id": "x1y3gcTeSwkU",
        "colab": {
          "base_uri": "https://localhost:8080/"
        },
        "outputId": "b1868003-5582-4717-c7d6-5b0f693d375b"
      },
      "outputs": [
        {
          "output_type": "stream",
          "name": "stdout",
          "text": [
            "Downloading data from https://storage.googleapis.com/tensorflow/keras-applications/mobilenet_v2/mobilenet_v2_weights_tf_dim_ordering_tf_kernels_1.0_224_no_top.h5\n",
            "9406464/9406464 [==============================] - 1s 0us/step\n"
          ]
        }
      ],
      "source": [
        "from keras.applications import MobileNetV2\n",
        "# Using the MobileNetV2 model to create transfer learning model\n",
        "pre_trained_model_ikan = MobileNetV2(input_shape=(224, 224, 3), #150 ke 224\n",
        "                                     include_top=False,\n",
        "                                     weights='imagenet')\n",
        "\n",
        "# Set the pre-trained layer to be untrainable\n",
        "for layer in pre_trained_model_ikan.layers:\n",
        "    layer.trainable = False"
      ]
    },
    {
      "cell_type": "code",
      "execution_count": null,
      "metadata": {
        "id": "siGu5ejz1oY-"
      },
      "outputs": [],
      "source": [
        "# Create model\n",
        "inputs = pre_trained_model_ikan.input\n",
        "x = tf.keras.layers.Flatten()(pre_trained_model_ikan.output)\n",
        "x = tf.keras.layers.Dense(256, activation='relu')(x)\n",
        "x = tf.keras.layers.BatchNormalization()(x)\n",
        "outputs = tf.keras.layers.Dense(24, activation='softmax')(x)\n",
        "model = tf.keras.Model(inputs=inputs, outputs=outputs)\n",
        "\n",
        "model.summary()"
      ]
    },
    {
      "cell_type": "code",
      "execution_count": null,
      "metadata": {
        "colab": {
          "base_uri": "https://localhost:8080/"
        },
        "id": "Ccp-Ju-UmUQX",
        "outputId": "89a95fd6-983f-4cd6-a546-1410aad17cf0"
      },
      "outputs": [
        {
          "output_type": "stream",
          "name": "stdout",
          "text": [
            "Model: \"model\"\n",
            "__________________________________________________________________________________________________\n",
            " Layer (type)                Output Shape                 Param #   Connected to                  \n",
            "==================================================================================================\n",
            " input_1 (InputLayer)        [(None, 224, 224, 3)]        0         []                            \n",
            "                                                                                                  \n",
            " Conv1 (Conv2D)              (None, 112, 112, 32)         864       ['input_1[0][0]']             \n",
            "                                                                                                  \n",
            " bn_Conv1 (BatchNormalizati  (None, 112, 112, 32)         128       ['Conv1[0][0]']               \n",
            " on)                                                                                              \n",
            "                                                                                                  \n",
            " Conv1_relu (ReLU)           (None, 112, 112, 32)         0         ['bn_Conv1[0][0]']            \n",
            "                                                                                                  \n",
            " expanded_conv_depthwise (D  (None, 112, 112, 32)         288       ['Conv1_relu[0][0]']          \n",
            " epthwiseConv2D)                                                                                  \n",
            "                                                                                                  \n",
            " expanded_conv_depthwise_BN  (None, 112, 112, 32)         128       ['expanded_conv_depthwise[0][0\n",
            "  (BatchNormalization)                                              ]']                           \n",
            "                                                                                                  \n",
            " expanded_conv_depthwise_re  (None, 112, 112, 32)         0         ['expanded_conv_depthwise_BN[0\n",
            " lu (ReLU)                                                          ][0]']                        \n",
            "                                                                                                  \n",
            " expanded_conv_project (Con  (None, 112, 112, 16)         512       ['expanded_conv_depthwise_relu\n",
            " v2D)                                                               [0][0]']                      \n",
            "                                                                                                  \n",
            " expanded_conv_project_BN (  (None, 112, 112, 16)         64        ['expanded_conv_project[0][0]'\n",
            " BatchNormalization)                                                ]                             \n",
            "                                                                                                  \n",
            " block_1_expand (Conv2D)     (None, 112, 112, 96)         1536      ['expanded_conv_project_BN[0][\n",
            "                                                                    0]']                          \n",
            "                                                                                                  \n",
            " block_1_expand_BN (BatchNo  (None, 112, 112, 96)         384       ['block_1_expand[0][0]']      \n",
            " rmalization)                                                                                     \n",
            "                                                                                                  \n",
            " block_1_expand_relu (ReLU)  (None, 112, 112, 96)         0         ['block_1_expand_BN[0][0]']   \n",
            "                                                                                                  \n",
            " block_1_pad (ZeroPadding2D  (None, 113, 113, 96)         0         ['block_1_expand_relu[0][0]'] \n",
            " )                                                                                                \n",
            "                                                                                                  \n",
            " block_1_depthwise (Depthwi  (None, 56, 56, 96)           864       ['block_1_pad[0][0]']         \n",
            " seConv2D)                                                                                        \n",
            "                                                                                                  \n",
            " block_1_depthwise_BN (Batc  (None, 56, 56, 96)           384       ['block_1_depthwise[0][0]']   \n",
            " hNormalization)                                                                                  \n",
            "                                                                                                  \n",
            " block_1_depthwise_relu (Re  (None, 56, 56, 96)           0         ['block_1_depthwise_BN[0][0]']\n",
            " LU)                                                                                              \n",
            "                                                                                                  \n",
            " block_1_project (Conv2D)    (None, 56, 56, 24)           2304      ['block_1_depthwise_relu[0][0]\n",
            "                                                                    ']                            \n",
            "                                                                                                  \n",
            " block_1_project_BN (BatchN  (None, 56, 56, 24)           96        ['block_1_project[0][0]']     \n",
            " ormalization)                                                                                    \n",
            "                                                                                                  \n",
            " block_2_expand (Conv2D)     (None, 56, 56, 144)          3456      ['block_1_project_BN[0][0]']  \n",
            "                                                                                                  \n",
            " block_2_expand_BN (BatchNo  (None, 56, 56, 144)          576       ['block_2_expand[0][0]']      \n",
            " rmalization)                                                                                     \n",
            "                                                                                                  \n",
            " block_2_expand_relu (ReLU)  (None, 56, 56, 144)          0         ['block_2_expand_BN[0][0]']   \n",
            "                                                                                                  \n",
            " block_2_depthwise (Depthwi  (None, 56, 56, 144)          1296      ['block_2_expand_relu[0][0]'] \n",
            " seConv2D)                                                                                        \n",
            "                                                                                                  \n",
            " block_2_depthwise_BN (Batc  (None, 56, 56, 144)          576       ['block_2_depthwise[0][0]']   \n",
            " hNormalization)                                                                                  \n",
            "                                                                                                  \n",
            " block_2_depthwise_relu (Re  (None, 56, 56, 144)          0         ['block_2_depthwise_BN[0][0]']\n",
            " LU)                                                                                              \n",
            "                                                                                                  \n",
            " block_2_project (Conv2D)    (None, 56, 56, 24)           3456      ['block_2_depthwise_relu[0][0]\n",
            "                                                                    ']                            \n",
            "                                                                                                  \n",
            " block_2_project_BN (BatchN  (None, 56, 56, 24)           96        ['block_2_project[0][0]']     \n",
            " ormalization)                                                                                    \n",
            "                                                                                                  \n",
            " block_2_add (Add)           (None, 56, 56, 24)           0         ['block_1_project_BN[0][0]',  \n",
            "                                                                     'block_2_project_BN[0][0]']  \n",
            "                                                                                                  \n",
            " block_3_expand (Conv2D)     (None, 56, 56, 144)          3456      ['block_2_add[0][0]']         \n",
            "                                                                                                  \n",
            " block_3_expand_BN (BatchNo  (None, 56, 56, 144)          576       ['block_3_expand[0][0]']      \n",
            " rmalization)                                                                                     \n",
            "                                                                                                  \n",
            " block_3_expand_relu (ReLU)  (None, 56, 56, 144)          0         ['block_3_expand_BN[0][0]']   \n",
            "                                                                                                  \n",
            " block_3_pad (ZeroPadding2D  (None, 57, 57, 144)          0         ['block_3_expand_relu[0][0]'] \n",
            " )                                                                                                \n",
            "                                                                                                  \n",
            " block_3_depthwise (Depthwi  (None, 28, 28, 144)          1296      ['block_3_pad[0][0]']         \n",
            " seConv2D)                                                                                        \n",
            "                                                                                                  \n",
            " block_3_depthwise_BN (Batc  (None, 28, 28, 144)          576       ['block_3_depthwise[0][0]']   \n",
            " hNormalization)                                                                                  \n",
            "                                                                                                  \n",
            " block_3_depthwise_relu (Re  (None, 28, 28, 144)          0         ['block_3_depthwise_BN[0][0]']\n",
            " LU)                                                                                              \n",
            "                                                                                                  \n",
            " block_3_project (Conv2D)    (None, 28, 28, 32)           4608      ['block_3_depthwise_relu[0][0]\n",
            "                                                                    ']                            \n",
            "                                                                                                  \n",
            " block_3_project_BN (BatchN  (None, 28, 28, 32)           128       ['block_3_project[0][0]']     \n",
            " ormalization)                                                                                    \n",
            "                                                                                                  \n",
            " block_4_expand (Conv2D)     (None, 28, 28, 192)          6144      ['block_3_project_BN[0][0]']  \n",
            "                                                                                                  \n",
            " block_4_expand_BN (BatchNo  (None, 28, 28, 192)          768       ['block_4_expand[0][0]']      \n",
            " rmalization)                                                                                     \n",
            "                                                                                                  \n",
            " block_4_expand_relu (ReLU)  (None, 28, 28, 192)          0         ['block_4_expand_BN[0][0]']   \n",
            "                                                                                                  \n",
            " block_4_depthwise (Depthwi  (None, 28, 28, 192)          1728      ['block_4_expand_relu[0][0]'] \n",
            " seConv2D)                                                                                        \n",
            "                                                                                                  \n",
            " block_4_depthwise_BN (Batc  (None, 28, 28, 192)          768       ['block_4_depthwise[0][0]']   \n",
            " hNormalization)                                                                                  \n",
            "                                                                                                  \n",
            " block_4_depthwise_relu (Re  (None, 28, 28, 192)          0         ['block_4_depthwise_BN[0][0]']\n",
            " LU)                                                                                              \n",
            "                                                                                                  \n",
            " block_4_project (Conv2D)    (None, 28, 28, 32)           6144      ['block_4_depthwise_relu[0][0]\n",
            "                                                                    ']                            \n",
            "                                                                                                  \n",
            " block_4_project_BN (BatchN  (None, 28, 28, 32)           128       ['block_4_project[0][0]']     \n",
            " ormalization)                                                                                    \n",
            "                                                                                                  \n",
            " block_4_add (Add)           (None, 28, 28, 32)           0         ['block_3_project_BN[0][0]',  \n",
            "                                                                     'block_4_project_BN[0][0]']  \n",
            "                                                                                                  \n",
            " block_5_expand (Conv2D)     (None, 28, 28, 192)          6144      ['block_4_add[0][0]']         \n",
            "                                                                                                  \n",
            " block_5_expand_BN (BatchNo  (None, 28, 28, 192)          768       ['block_5_expand[0][0]']      \n",
            " rmalization)                                                                                     \n",
            "                                                                                                  \n",
            " block_5_expand_relu (ReLU)  (None, 28, 28, 192)          0         ['block_5_expand_BN[0][0]']   \n",
            "                                                                                                  \n",
            " block_5_depthwise (Depthwi  (None, 28, 28, 192)          1728      ['block_5_expand_relu[0][0]'] \n",
            " seConv2D)                                                                                        \n",
            "                                                                                                  \n",
            " block_5_depthwise_BN (Batc  (None, 28, 28, 192)          768       ['block_5_depthwise[0][0]']   \n",
            " hNormalization)                                                                                  \n",
            "                                                                                                  \n",
            " block_5_depthwise_relu (Re  (None, 28, 28, 192)          0         ['block_5_depthwise_BN[0][0]']\n",
            " LU)                                                                                              \n",
            "                                                                                                  \n",
            " block_5_project (Conv2D)    (None, 28, 28, 32)           6144      ['block_5_depthwise_relu[0][0]\n",
            "                                                                    ']                            \n",
            "                                                                                                  \n",
            " block_5_project_BN (BatchN  (None, 28, 28, 32)           128       ['block_5_project[0][0]']     \n",
            " ormalization)                                                                                    \n",
            "                                                                                                  \n",
            " block_5_add (Add)           (None, 28, 28, 32)           0         ['block_4_add[0][0]',         \n",
            "                                                                     'block_5_project_BN[0][0]']  \n",
            "                                                                                                  \n",
            " block_6_expand (Conv2D)     (None, 28, 28, 192)          6144      ['block_5_add[0][0]']         \n",
            "                                                                                                  \n",
            " block_6_expand_BN (BatchNo  (None, 28, 28, 192)          768       ['block_6_expand[0][0]']      \n",
            " rmalization)                                                                                     \n",
            "                                                                                                  \n",
            " block_6_expand_relu (ReLU)  (None, 28, 28, 192)          0         ['block_6_expand_BN[0][0]']   \n",
            "                                                                                                  \n",
            " block_6_pad (ZeroPadding2D  (None, 29, 29, 192)          0         ['block_6_expand_relu[0][0]'] \n",
            " )                                                                                                \n",
            "                                                                                                  \n",
            " block_6_depthwise (Depthwi  (None, 14, 14, 192)          1728      ['block_6_pad[0][0]']         \n",
            " seConv2D)                                                                                        \n",
            "                                                                                                  \n",
            " block_6_depthwise_BN (Batc  (None, 14, 14, 192)          768       ['block_6_depthwise[0][0]']   \n",
            " hNormalization)                                                                                  \n",
            "                                                                                                  \n",
            " block_6_depthwise_relu (Re  (None, 14, 14, 192)          0         ['block_6_depthwise_BN[0][0]']\n",
            " LU)                                                                                              \n",
            "                                                                                                  \n",
            " block_6_project (Conv2D)    (None, 14, 14, 64)           12288     ['block_6_depthwise_relu[0][0]\n",
            "                                                                    ']                            \n",
            "                                                                                                  \n",
            " block_6_project_BN (BatchN  (None, 14, 14, 64)           256       ['block_6_project[0][0]']     \n",
            " ormalization)                                                                                    \n",
            "                                                                                                  \n",
            " block_7_expand (Conv2D)     (None, 14, 14, 384)          24576     ['block_6_project_BN[0][0]']  \n",
            "                                                                                                  \n",
            " block_7_expand_BN (BatchNo  (None, 14, 14, 384)          1536      ['block_7_expand[0][0]']      \n",
            " rmalization)                                                                                     \n",
            "                                                                                                  \n",
            " block_7_expand_relu (ReLU)  (None, 14, 14, 384)          0         ['block_7_expand_BN[0][0]']   \n",
            "                                                                                                  \n",
            " block_7_depthwise (Depthwi  (None, 14, 14, 384)          3456      ['block_7_expand_relu[0][0]'] \n",
            " seConv2D)                                                                                        \n",
            "                                                                                                  \n",
            " block_7_depthwise_BN (Batc  (None, 14, 14, 384)          1536      ['block_7_depthwise[0][0]']   \n",
            " hNormalization)                                                                                  \n",
            "                                                                                                  \n",
            " block_7_depthwise_relu (Re  (None, 14, 14, 384)          0         ['block_7_depthwise_BN[0][0]']\n",
            " LU)                                                                                              \n",
            "                                                                                                  \n",
            " block_7_project (Conv2D)    (None, 14, 14, 64)           24576     ['block_7_depthwise_relu[0][0]\n",
            "                                                                    ']                            \n",
            "                                                                                                  \n",
            " block_7_project_BN (BatchN  (None, 14, 14, 64)           256       ['block_7_project[0][0]']     \n",
            " ormalization)                                                                                    \n",
            "                                                                                                  \n",
            " block_7_add (Add)           (None, 14, 14, 64)           0         ['block_6_project_BN[0][0]',  \n",
            "                                                                     'block_7_project_BN[0][0]']  \n",
            "                                                                                                  \n",
            " block_8_expand (Conv2D)     (None, 14, 14, 384)          24576     ['block_7_add[0][0]']         \n",
            "                                                                                                  \n",
            " block_8_expand_BN (BatchNo  (None, 14, 14, 384)          1536      ['block_8_expand[0][0]']      \n",
            " rmalization)                                                                                     \n",
            "                                                                                                  \n",
            " block_8_expand_relu (ReLU)  (None, 14, 14, 384)          0         ['block_8_expand_BN[0][0]']   \n",
            "                                                                                                  \n",
            " block_8_depthwise (Depthwi  (None, 14, 14, 384)          3456      ['block_8_expand_relu[0][0]'] \n",
            " seConv2D)                                                                                        \n",
            "                                                                                                  \n",
            " block_8_depthwise_BN (Batc  (None, 14, 14, 384)          1536      ['block_8_depthwise[0][0]']   \n",
            " hNormalization)                                                                                  \n",
            "                                                                                                  \n",
            " block_8_depthwise_relu (Re  (None, 14, 14, 384)          0         ['block_8_depthwise_BN[0][0]']\n",
            " LU)                                                                                              \n",
            "                                                                                                  \n",
            " block_8_project (Conv2D)    (None, 14, 14, 64)           24576     ['block_8_depthwise_relu[0][0]\n",
            "                                                                    ']                            \n",
            "                                                                                                  \n",
            " block_8_project_BN (BatchN  (None, 14, 14, 64)           256       ['block_8_project[0][0]']     \n",
            " ormalization)                                                                                    \n",
            "                                                                                                  \n",
            " block_8_add (Add)           (None, 14, 14, 64)           0         ['block_7_add[0][0]',         \n",
            "                                                                     'block_8_project_BN[0][0]']  \n",
            "                                                                                                  \n",
            " block_9_expand (Conv2D)     (None, 14, 14, 384)          24576     ['block_8_add[0][0]']         \n",
            "                                                                                                  \n",
            " block_9_expand_BN (BatchNo  (None, 14, 14, 384)          1536      ['block_9_expand[0][0]']      \n",
            " rmalization)                                                                                     \n",
            "                                                                                                  \n",
            " block_9_expand_relu (ReLU)  (None, 14, 14, 384)          0         ['block_9_expand_BN[0][0]']   \n",
            "                                                                                                  \n",
            " block_9_depthwise (Depthwi  (None, 14, 14, 384)          3456      ['block_9_expand_relu[0][0]'] \n",
            " seConv2D)                                                                                        \n",
            "                                                                                                  \n",
            " block_9_depthwise_BN (Batc  (None, 14, 14, 384)          1536      ['block_9_depthwise[0][0]']   \n",
            " hNormalization)                                                                                  \n",
            "                                                                                                  \n",
            " block_9_depthwise_relu (Re  (None, 14, 14, 384)          0         ['block_9_depthwise_BN[0][0]']\n",
            " LU)                                                                                              \n",
            "                                                                                                  \n",
            " block_9_project (Conv2D)    (None, 14, 14, 64)           24576     ['block_9_depthwise_relu[0][0]\n",
            "                                                                    ']                            \n",
            "                                                                                                  \n",
            " block_9_project_BN (BatchN  (None, 14, 14, 64)           256       ['block_9_project[0][0]']     \n",
            " ormalization)                                                                                    \n",
            "                                                                                                  \n",
            " block_9_add (Add)           (None, 14, 14, 64)           0         ['block_8_add[0][0]',         \n",
            "                                                                     'block_9_project_BN[0][0]']  \n",
            "                                                                                                  \n",
            " block_10_expand (Conv2D)    (None, 14, 14, 384)          24576     ['block_9_add[0][0]']         \n",
            "                                                                                                  \n",
            " block_10_expand_BN (BatchN  (None, 14, 14, 384)          1536      ['block_10_expand[0][0]']     \n",
            " ormalization)                                                                                    \n",
            "                                                                                                  \n",
            " block_10_expand_relu (ReLU  (None, 14, 14, 384)          0         ['block_10_expand_BN[0][0]']  \n",
            " )                                                                                                \n",
            "                                                                                                  \n",
            " block_10_depthwise (Depthw  (None, 14, 14, 384)          3456      ['block_10_expand_relu[0][0]']\n",
            " iseConv2D)                                                                                       \n",
            "                                                                                                  \n",
            " block_10_depthwise_BN (Bat  (None, 14, 14, 384)          1536      ['block_10_depthwise[0][0]']  \n",
            " chNormalization)                                                                                 \n",
            "                                                                                                  \n",
            " block_10_depthwise_relu (R  (None, 14, 14, 384)          0         ['block_10_depthwise_BN[0][0]'\n",
            " eLU)                                                               ]                             \n",
            "                                                                                                  \n",
            " block_10_project (Conv2D)   (None, 14, 14, 96)           36864     ['block_10_depthwise_relu[0][0\n",
            "                                                                    ]']                           \n",
            "                                                                                                  \n",
            " block_10_project_BN (Batch  (None, 14, 14, 96)           384       ['block_10_project[0][0]']    \n",
            " Normalization)                                                                                   \n",
            "                                                                                                  \n",
            " block_11_expand (Conv2D)    (None, 14, 14, 576)          55296     ['block_10_project_BN[0][0]'] \n",
            "                                                                                                  \n",
            " block_11_expand_BN (BatchN  (None, 14, 14, 576)          2304      ['block_11_expand[0][0]']     \n",
            " ormalization)                                                                                    \n",
            "                                                                                                  \n",
            " block_11_expand_relu (ReLU  (None, 14, 14, 576)          0         ['block_11_expand_BN[0][0]']  \n",
            " )                                                                                                \n",
            "                                                                                                  \n",
            " block_11_depthwise (Depthw  (None, 14, 14, 576)          5184      ['block_11_expand_relu[0][0]']\n",
            " iseConv2D)                                                                                       \n",
            "                                                                                                  \n",
            " block_11_depthwise_BN (Bat  (None, 14, 14, 576)          2304      ['block_11_depthwise[0][0]']  \n",
            " chNormalization)                                                                                 \n",
            "                                                                                                  \n",
            " block_11_depthwise_relu (R  (None, 14, 14, 576)          0         ['block_11_depthwise_BN[0][0]'\n",
            " eLU)                                                               ]                             \n",
            "                                                                                                  \n",
            " block_11_project (Conv2D)   (None, 14, 14, 96)           55296     ['block_11_depthwise_relu[0][0\n",
            "                                                                    ]']                           \n",
            "                                                                                                  \n",
            " block_11_project_BN (Batch  (None, 14, 14, 96)           384       ['block_11_project[0][0]']    \n",
            " Normalization)                                                                                   \n",
            "                                                                                                  \n",
            " block_11_add (Add)          (None, 14, 14, 96)           0         ['block_10_project_BN[0][0]', \n",
            "                                                                     'block_11_project_BN[0][0]'] \n",
            "                                                                                                  \n",
            " block_12_expand (Conv2D)    (None, 14, 14, 576)          55296     ['block_11_add[0][0]']        \n",
            "                                                                                                  \n",
            " block_12_expand_BN (BatchN  (None, 14, 14, 576)          2304      ['block_12_expand[0][0]']     \n",
            " ormalization)                                                                                    \n",
            "                                                                                                  \n",
            " block_12_expand_relu (ReLU  (None, 14, 14, 576)          0         ['block_12_expand_BN[0][0]']  \n",
            " )                                                                                                \n",
            "                                                                                                  \n",
            " block_12_depthwise (Depthw  (None, 14, 14, 576)          5184      ['block_12_expand_relu[0][0]']\n",
            " iseConv2D)                                                                                       \n",
            "                                                                                                  \n",
            " block_12_depthwise_BN (Bat  (None, 14, 14, 576)          2304      ['block_12_depthwise[0][0]']  \n",
            " chNormalization)                                                                                 \n",
            "                                                                                                  \n",
            " block_12_depthwise_relu (R  (None, 14, 14, 576)          0         ['block_12_depthwise_BN[0][0]'\n",
            " eLU)                                                               ]                             \n",
            "                                                                                                  \n",
            " block_12_project (Conv2D)   (None, 14, 14, 96)           55296     ['block_12_depthwise_relu[0][0\n",
            "                                                                    ]']                           \n",
            "                                                                                                  \n",
            " block_12_project_BN (Batch  (None, 14, 14, 96)           384       ['block_12_project[0][0]']    \n",
            " Normalization)                                                                                   \n",
            "                                                                                                  \n",
            " block_12_add (Add)          (None, 14, 14, 96)           0         ['block_11_add[0][0]',        \n",
            "                                                                     'block_12_project_BN[0][0]'] \n",
            "                                                                                                  \n",
            " block_13_expand (Conv2D)    (None, 14, 14, 576)          55296     ['block_12_add[0][0]']        \n",
            "                                                                                                  \n",
            " block_13_expand_BN (BatchN  (None, 14, 14, 576)          2304      ['block_13_expand[0][0]']     \n",
            " ormalization)                                                                                    \n",
            "                                                                                                  \n",
            " block_13_expand_relu (ReLU  (None, 14, 14, 576)          0         ['block_13_expand_BN[0][0]']  \n",
            " )                                                                                                \n",
            "                                                                                                  \n",
            " block_13_pad (ZeroPadding2  (None, 15, 15, 576)          0         ['block_13_expand_relu[0][0]']\n",
            " D)                                                                                               \n",
            "                                                                                                  \n",
            " block_13_depthwise (Depthw  (None, 7, 7, 576)            5184      ['block_13_pad[0][0]']        \n",
            " iseConv2D)                                                                                       \n",
            "                                                                                                  \n",
            " block_13_depthwise_BN (Bat  (None, 7, 7, 576)            2304      ['block_13_depthwise[0][0]']  \n",
            " chNormalization)                                                                                 \n",
            "                                                                                                  \n",
            " block_13_depthwise_relu (R  (None, 7, 7, 576)            0         ['block_13_depthwise_BN[0][0]'\n",
            " eLU)                                                               ]                             \n",
            "                                                                                                  \n",
            " block_13_project (Conv2D)   (None, 7, 7, 160)            92160     ['block_13_depthwise_relu[0][0\n",
            "                                                                    ]']                           \n",
            "                                                                                                  \n",
            " block_13_project_BN (Batch  (None, 7, 7, 160)            640       ['block_13_project[0][0]']    \n",
            " Normalization)                                                                                   \n",
            "                                                                                                  \n",
            " block_14_expand (Conv2D)    (None, 7, 7, 960)            153600    ['block_13_project_BN[0][0]'] \n",
            "                                                                                                  \n",
            " block_14_expand_BN (BatchN  (None, 7, 7, 960)            3840      ['block_14_expand[0][0]']     \n",
            " ormalization)                                                                                    \n",
            "                                                                                                  \n",
            " block_14_expand_relu (ReLU  (None, 7, 7, 960)            0         ['block_14_expand_BN[0][0]']  \n",
            " )                                                                                                \n",
            "                                                                                                  \n",
            " block_14_depthwise (Depthw  (None, 7, 7, 960)            8640      ['block_14_expand_relu[0][0]']\n",
            " iseConv2D)                                                                                       \n",
            "                                                                                                  \n",
            " block_14_depthwise_BN (Bat  (None, 7, 7, 960)            3840      ['block_14_depthwise[0][0]']  \n",
            " chNormalization)                                                                                 \n",
            "                                                                                                  \n",
            " block_14_depthwise_relu (R  (None, 7, 7, 960)            0         ['block_14_depthwise_BN[0][0]'\n",
            " eLU)                                                               ]                             \n",
            "                                                                                                  \n",
            " block_14_project (Conv2D)   (None, 7, 7, 160)            153600    ['block_14_depthwise_relu[0][0\n",
            "                                                                    ]']                           \n",
            "                                                                                                  \n",
            " block_14_project_BN (Batch  (None, 7, 7, 160)            640       ['block_14_project[0][0]']    \n",
            " Normalization)                                                                                   \n",
            "                                                                                                  \n",
            " block_14_add (Add)          (None, 7, 7, 160)            0         ['block_13_project_BN[0][0]', \n",
            "                                                                     'block_14_project_BN[0][0]'] \n",
            "                                                                                                  \n",
            " block_15_expand (Conv2D)    (None, 7, 7, 960)            153600    ['block_14_add[0][0]']        \n",
            "                                                                                                  \n",
            " block_15_expand_BN (BatchN  (None, 7, 7, 960)            3840      ['block_15_expand[0][0]']     \n",
            " ormalization)                                                                                    \n",
            "                                                                                                  \n",
            " block_15_expand_relu (ReLU  (None, 7, 7, 960)            0         ['block_15_expand_BN[0][0]']  \n",
            " )                                                                                                \n",
            "                                                                                                  \n",
            " block_15_depthwise (Depthw  (None, 7, 7, 960)            8640      ['block_15_expand_relu[0][0]']\n",
            " iseConv2D)                                                                                       \n",
            "                                                                                                  \n",
            " block_15_depthwise_BN (Bat  (None, 7, 7, 960)            3840      ['block_15_depthwise[0][0]']  \n",
            " chNormalization)                                                                                 \n",
            "                                                                                                  \n",
            " block_15_depthwise_relu (R  (None, 7, 7, 960)            0         ['block_15_depthwise_BN[0][0]'\n",
            " eLU)                                                               ]                             \n",
            "                                                                                                  \n",
            " block_15_project (Conv2D)   (None, 7, 7, 160)            153600    ['block_15_depthwise_relu[0][0\n",
            "                                                                    ]']                           \n",
            "                                                                                                  \n",
            " block_15_project_BN (Batch  (None, 7, 7, 160)            640       ['block_15_project[0][0]']    \n",
            " Normalization)                                                                                   \n",
            "                                                                                                  \n",
            " block_15_add (Add)          (None, 7, 7, 160)            0         ['block_14_add[0][0]',        \n",
            "                                                                     'block_15_project_BN[0][0]'] \n",
            "                                                                                                  \n",
            " block_16_expand (Conv2D)    (None, 7, 7, 960)            153600    ['block_15_add[0][0]']        \n",
            "                                                                                                  \n",
            " block_16_expand_BN (BatchN  (None, 7, 7, 960)            3840      ['block_16_expand[0][0]']     \n",
            " ormalization)                                                                                    \n",
            "                                                                                                  \n",
            " block_16_expand_relu (ReLU  (None, 7, 7, 960)            0         ['block_16_expand_BN[0][0]']  \n",
            " )                                                                                                \n",
            "                                                                                                  \n",
            " block_16_depthwise (Depthw  (None, 7, 7, 960)            8640      ['block_16_expand_relu[0][0]']\n",
            " iseConv2D)                                                                                       \n",
            "                                                                                                  \n",
            " block_16_depthwise_BN (Bat  (None, 7, 7, 960)            3840      ['block_16_depthwise[0][0]']  \n",
            " chNormalization)                                                                                 \n",
            "                                                                                                  \n",
            " block_16_depthwise_relu (R  (None, 7, 7, 960)            0         ['block_16_depthwise_BN[0][0]'\n",
            " eLU)                                                               ]                             \n",
            "                                                                                                  \n",
            " block_16_project (Conv2D)   (None, 7, 7, 320)            307200    ['block_16_depthwise_relu[0][0\n",
            "                                                                    ]']                           \n",
            "                                                                                                  \n",
            " block_16_project_BN (Batch  (None, 7, 7, 320)            1280      ['block_16_project[0][0]']    \n",
            " Normalization)                                                                                   \n",
            "                                                                                                  \n",
            " Conv_1 (Conv2D)             (None, 7, 7, 1280)           409600    ['block_16_project_BN[0][0]'] \n",
            "                                                                                                  \n",
            " Conv_1_bn (BatchNormalizat  (None, 7, 7, 1280)           5120      ['Conv_1[0][0]']              \n",
            " ion)                                                                                             \n",
            "                                                                                                  \n",
            " out_relu (ReLU)             (None, 7, 7, 1280)           0         ['Conv_1_bn[0][0]']           \n",
            "                                                                                                  \n",
            " flatten (Flatten)           (None, 62720)                0         ['out_relu[0][0]']            \n",
            "                                                                                                  \n",
            " dense (Dense)               (None, 256)                  1605657   ['flatten[0][0]']             \n",
            "                                                          6                                       \n",
            "                                                                                                  \n",
            " batch_normalization (Batch  (None, 256)                  1024      ['dense[0][0]']               \n",
            " Normalization)                                                                                   \n",
            "                                                                                                  \n",
            " dense_1 (Dense)             (None, 24)                   6168      ['batch_normalization[0][0]'] \n",
            "                                                                                                  \n",
            "==================================================================================================\n",
            "Total params: 18321752 (69.89 MB)\n",
            "Trainable params: 16063256 (61.28 MB)\n",
            "Non-trainable params: 2258496 (8.62 MB)\n",
            "__________________________________________________________________________________________________\n"
          ]
        }
      ],
      "source": []
    },
    {
      "cell_type": "code",
      "execution_count": null,
      "metadata": {
        "id": "BNuTGnXnmcWN"
      },
      "outputs": [],
      "source": [
        "# Use adam optimizer and categorical_crossentropy to compile the model\n",
        "model.compile(optimizer = 'adam',\n",
        "              loss = 'categorical_crossentropy',\n",
        "              metrics = ['accuracy'])"
      ]
    },
    {
      "cell_type": "code",
      "execution_count": null,
      "metadata": {
        "id": "6Rnjn-ZDM5bk"
      },
      "outputs": [],
      "source": [
        "# Establishing checkpoints to preserve the top models\n",
        "sourcedata = \"/content/drive/MyDrive/Percobaan_Analisis_Model_9\"\n",
        "\n",
        "# Prior to establishing the directory, make sure it doesn't already exist\n",
        "if not os.path.exists(sourcedata):\n",
        "    os.mkdir(sourcedata)\n",
        "\n",
        "checkpoint = ModelCheckpoint(sourcedata, monitor='val_accuracy', verbose=1, save_best_only=True, mode='max')"
      ]
    },
    {
      "cell_type": "code",
      "execution_count": null,
      "metadata": {
        "colab": {
          "base_uri": "https://localhost:8080/"
        },
        "id": "BLgliSanQtEG",
        "outputId": "36b1b166-7f15-4803-a2a9-bfd095de5a24"
      },
      "outputs": [
        {
          "metadata": {
            "tags": null
          },
          "name": "stdout",
          "output_type": "stream",
          "text": [
            "Epoch 1/30\n",
            "15/25 [=================>............] - ETA: 21s - loss: 2.6347 - accuracy: 0.3312"
          ]
        },
        {
          "metadata": {
            "tags": null
          },
          "name": "stderr",
          "output_type": "stream",
          "text": [
            "/usr/local/lib/python3.10/dist-packages/PIL/Image.py:996: UserWarning: Palette images with Transparency expressed in bytes should be converted to RGBA images\n",
            "  warnings.warn(\n"
          ]
        },
        {
          "metadata": {
            "tags": null
          },
          "name": "stdout",
          "output_type": "stream",
          "text": [
            "25/25 [==============================] - ETA: 0s - loss: 2.3393 - accuracy: 0.3811\n",
            "Epoch 1: val_accuracy improved from -inf to 0.48582, saving model to /content/drive/MyDrive/Percobaan_Analisis_Model_9\n",
            "25/25 [==============================] - 107s 4s/step - loss: 2.3393 - accuracy: 0.3811 - val_loss: 3.1256 - val_accuracy: 0.4858\n",
            "Epoch 2/30\n",
            " 2/25 [=>............................] - ETA: 46s - loss: 1.2118 - accuracy: 0.6094 "
          ]
        },
        {
          "metadata": {
            "tags": null
          },
          "name": "stderr",
          "output_type": "stream",
          "text": [
            "/usr/local/lib/python3.10/dist-packages/PIL/Image.py:996: UserWarning: Palette images with Transparency expressed in bytes should be converted to RGBA images\n",
            "  warnings.warn(\n"
          ]
        },
        {
          "metadata": {
            "tags": null
          },
          "name": "stdout",
          "output_type": "stream",
          "text": [
            "25/25 [==============================] - ETA: 0s - loss: 1.1594 - accuracy: 0.6496\n",
            "Epoch 2: val_accuracy improved from 0.48582 to 0.70213, saving model to /content/drive/MyDrive/Percobaan_Analisis_Model_9\n",
            "25/25 [==============================] - 99s 4s/step - loss: 1.1594 - accuracy: 0.6496 - val_loss: 1.4031 - val_accuracy: 0.7021\n",
            "Epoch 3/30\n",
            "25/25 [==============================] - ETA: 0s - loss: 0.8733 - accuracy: 0.7563\n",
            "Epoch 3: val_accuracy improved from 0.70213 to 0.73050, saving model to /content/drive/MyDrive/Percobaan_Analisis_Model_9\n",
            "25/25 [==============================] - 100s 4s/step - loss: 0.8733 - accuracy: 0.7563 - val_loss: 1.0494 - val_accuracy: 0.7305\n",
            "Epoch 4/30\n",
            "22/25 [=========================>....] - ETA: 8s - loss: 0.6771 - accuracy: 0.7930 "
          ]
        },
        {
          "metadata": {
            "tags": null
          },
          "name": "stderr",
          "output_type": "stream",
          "text": [
            "/usr/local/lib/python3.10/dist-packages/PIL/Image.py:996: UserWarning: Palette images with Transparency expressed in bytes should be converted to RGBA images\n",
            "  warnings.warn(\n"
          ]
        },
        {
          "metadata": {
            "tags": null
          },
          "name": "stdout",
          "output_type": "stream",
          "text": [
            "25/25 [==============================] - ETA: 0s - loss: 0.6856 - accuracy: 0.7877\n",
            "Epoch 4: val_accuracy did not improve from 0.73050\n",
            "25/25 [==============================] - 85s 3s/step - loss: 0.6856 - accuracy: 0.7877 - val_loss: 0.9528 - val_accuracy: 0.7234\n",
            "Epoch 5/30\n",
            "25/25 [==============================] - ETA: 0s - loss: 0.5658 - accuracy: 0.8325\n",
            "Epoch 5: val_accuracy improved from 0.73050 to 0.73759, saving model to /content/drive/MyDrive/Percobaan_Analisis_Model_9\n",
            "25/25 [==============================] - 97s 4s/step - loss: 0.5658 - accuracy: 0.8325 - val_loss: 0.8575 - val_accuracy: 0.7376\n",
            "Epoch 6/30\n",
            " 7/25 [=======>......................] - ETA: 44s - loss: 0.4537 - accuracy: 0.8750"
          ]
        },
        {
          "metadata": {
            "tags": null
          },
          "name": "stderr",
          "output_type": "stream",
          "text": [
            "/usr/local/lib/python3.10/dist-packages/PIL/Image.py:996: UserWarning: Palette images with Transparency expressed in bytes should be converted to RGBA images\n",
            "  warnings.warn(\n"
          ]
        },
        {
          "metadata": {
            "tags": null
          },
          "name": "stdout",
          "output_type": "stream",
          "text": [
            "25/25 [==============================] - ETA: 0s - loss: 0.5056 - accuracy: 0.8517\n",
            "Epoch 6: val_accuracy improved from 0.73759 to 0.76950, saving model to /content/drive/MyDrive/Percobaan_Analisis_Model_9\n",
            "25/25 [==============================] - 93s 4s/step - loss: 0.5056 - accuracy: 0.8517 - val_loss: 0.9176 - val_accuracy: 0.7695\n",
            "Epoch 7/30\n",
            " 5/25 [=====>........................] - ETA: 49s - loss: 0.5389 - accuracy: 0.8500"
          ]
        },
        {
          "metadata": {
            "tags": null
          },
          "name": "stderr",
          "output_type": "stream",
          "text": [
            "/usr/local/lib/python3.10/dist-packages/PIL/Image.py:996: UserWarning: Palette images with Transparency expressed in bytes should be converted to RGBA images\n",
            "  warnings.warn(\n"
          ]
        },
        {
          "metadata": {
            "tags": null
          },
          "name": "stdout",
          "output_type": "stream",
          "text": [
            "25/25 [==============================] - ETA: 0s - loss: 0.4344 - accuracy: 0.8849\n",
            "Epoch 7: val_accuracy did not improve from 0.76950\n",
            "25/25 [==============================] - 81s 3s/step - loss: 0.4344 - accuracy: 0.8849 - val_loss: 0.8247 - val_accuracy: 0.7695\n",
            "Epoch 8/30\n",
            "25/25 [==============================] - ETA: 0s - loss: 0.4615 - accuracy: 0.8600\n",
            "Epoch 8: val_accuracy improved from 0.76950 to 0.79787, saving model to /content/drive/MyDrive/Percobaan_Analisis_Model_9\n",
            "25/25 [==============================] - 101s 4s/step - loss: 0.4615 - accuracy: 0.8600 - val_loss: 0.7611 - val_accuracy: 0.7979\n",
            "Epoch 9/30\n",
            " 5/25 [=====>........................] - ETA: 50s - loss: 0.3907 - accuracy: 0.8813"
          ]
        },
        {
          "metadata": {
            "tags": null
          },
          "name": "stderr",
          "output_type": "stream",
          "text": [
            "/usr/local/lib/python3.10/dist-packages/PIL/Image.py:996: UserWarning: Palette images with Transparency expressed in bytes should be converted to RGBA images\n",
            "  warnings.warn(\n"
          ]
        },
        {
          "output_type": "stream",
          "name": "stdout",
          "text": [
            "25/25 [==============================] - ETA: 0s - loss: 0.3542 - accuracy: 0.8926\n",
            "Epoch 9: val_accuracy did not improve from 0.79787\n",
            "25/25 [==============================] - 87s 3s/step - loss: 0.3542 - accuracy: 0.8926 - val_loss: 0.8253 - val_accuracy: 0.7447\n",
            "Epoch 10/30\n",
            "25/25 [==============================] - ETA: 0s - loss: 0.3318 - accuracy: 0.9015\n",
            "Epoch 10: val_accuracy did not improve from 0.79787\n",
            "25/25 [==============================] - 80s 3s/step - loss: 0.3318 - accuracy: 0.9015 - val_loss: 0.8022 - val_accuracy: 0.7943\n",
            "Epoch 11/30\n",
            "25/25 [==============================] - ETA: 0s - loss: 0.3227 - accuracy: 0.9156\n",
            "Epoch 11: val_accuracy did not improve from 0.79787\n",
            "25/25 [==============================] - 78s 3s/step - loss: 0.3227 - accuracy: 0.9156 - val_loss: 0.7698 - val_accuracy: 0.7943\n",
            "Epoch 12/30\n",
            "25/25 [==============================] - ETA: 0s - loss: 0.2871 - accuracy: 0.9182\n",
            "Epoch 12: val_accuracy did not improve from 0.79787\n",
            "25/25 [==============================] - 71s 3s/step - loss: 0.2871 - accuracy: 0.9182 - val_loss: 0.7855 - val_accuracy: 0.7766\n",
            "Epoch 13/30\n",
            "25/25 [==============================] - ETA: 0s - loss: 0.3124 - accuracy: 0.9050\n",
            "Epoch 13: val_accuracy did not improve from 0.79787\n",
            "25/25 [==============================] - 79s 3s/step - loss: 0.3124 - accuracy: 0.9050 - val_loss: 0.8170 - val_accuracy: 0.7801\n",
            "Epoch 14/30\n",
            "25/25 [==============================] - ETA: 0s - loss: 0.2923 - accuracy: 0.9118\n",
            "Epoch 14: val_accuracy did not improve from 0.79787\n",
            "25/25 [==============================] - 77s 3s/step - loss: 0.2923 - accuracy: 0.9118 - val_loss: 0.8914 - val_accuracy: 0.7695\n",
            "Epoch 15/30\n",
            "25/25 [==============================] - ETA: 0s - loss: 0.2186 - accuracy: 0.9463\n",
            "Epoch 15: val_accuracy did not improve from 0.79787\n",
            "25/25 [==============================] - 80s 3s/step - loss: 0.2186 - accuracy: 0.9463 - val_loss: 0.7786 - val_accuracy: 0.7943\n",
            "Epoch 16/30\n",
            "25/25 [==============================] - ETA: 0s - loss: 0.2409 - accuracy: 0.9361\n",
            "Epoch 16: val_accuracy improved from 0.79787 to 0.80496, saving model to /content/drive/MyDrive/Percobaan_Analisis_Model_9\n",
            "25/25 [==============================] - 105s 4s/step - loss: 0.2409 - accuracy: 0.9361 - val_loss: 0.6997 - val_accuracy: 0.8050\n",
            "Epoch 17/30\n",
            "25/25 [==============================] - ETA: 0s - loss: 0.2642 - accuracy: 0.9207\n",
            "Epoch 17: val_accuracy did not improve from 0.80496\n",
            "25/25 [==============================] - 77s 3s/step - loss: 0.2642 - accuracy: 0.9207 - val_loss: 0.8992 - val_accuracy: 0.7730\n",
            "Epoch 18/30\n"
          ]
        },
        {
          "output_type": "stream",
          "name": "stderr",
          "text": [
            "/usr/local/lib/python3.10/dist-packages/PIL/Image.py:996: UserWarning: Palette images with Transparency expressed in bytes should be converted to RGBA images\n",
            "  warnings.warn(\n"
          ]
        },
        {
          "output_type": "stream",
          "name": "stdout",
          "text": [
            "25/25 [==============================] - ETA: 0s - loss: 0.2506 - accuracy: 0.9207\n",
            "Epoch 18: val_accuracy did not improve from 0.80496\n",
            "25/25 [==============================] - 77s 3s/step - loss: 0.2506 - accuracy: 0.9207 - val_loss: 0.8665 - val_accuracy: 0.7837\n",
            "Epoch 19/30\n",
            "25/25 [==============================] - ETA: 0s - loss: 0.2258 - accuracy: 0.9300\n",
            "Epoch 19: val_accuracy improved from 0.80496 to 0.81915, saving model to /content/drive/MyDrive/Percobaan_Analisis_Model_9\n",
            "25/25 [==============================] - 94s 4s/step - loss: 0.2258 - accuracy: 0.9300 - val_loss: 0.7153 - val_accuracy: 0.8191\n",
            "Epoch 20/30\n",
            " 4/25 [===>..........................] - ETA: 35s - loss: 0.2361 - accuracy: 0.9182"
          ]
        },
        {
          "output_type": "stream",
          "name": "stderr",
          "text": [
            "/usr/local/lib/python3.10/dist-packages/PIL/Image.py:996: UserWarning: Palette images with Transparency expressed in bytes should be converted to RGBA images\n",
            "  warnings.warn(\n"
          ]
        },
        {
          "output_type": "stream",
          "name": "stdout",
          "text": [
            "25/25 [==============================] - ETA: 0s - loss: 0.2119 - accuracy: 0.9425\n",
            "Epoch 20: val_accuracy did not improve from 0.81915\n",
            "25/25 [==============================] - 70s 3s/step - loss: 0.2119 - accuracy: 0.9425 - val_loss: 0.7773 - val_accuracy: 0.7801\n",
            "Epoch 21/30\n",
            "25/25 [==============================] - ETA: 0s - loss: 0.2215 - accuracy: 0.9271\n",
            "Epoch 21: val_accuracy did not improve from 0.81915\n",
            "25/25 [==============================] - 71s 3s/step - loss: 0.2215 - accuracy: 0.9271 - val_loss: 0.7647 - val_accuracy: 0.8014\n",
            "Epoch 22/30\n",
            "25/25 [==============================] - ETA: 0s - loss: 0.2109 - accuracy: 0.9476\n",
            "Epoch 22: val_accuracy did not improve from 0.81915\n",
            "25/25 [==============================] - 78s 3s/step - loss: 0.2109 - accuracy: 0.9476 - val_loss: 0.8255 - val_accuracy: 0.7872\n",
            "Epoch 23/30\n",
            "25/25 [==============================] - ETA: 0s - loss: 0.1917 - accuracy: 0.9373\n",
            "Epoch 23: val_accuracy did not improve from 0.81915\n",
            "25/25 [==============================] - 88s 4s/step - loss: 0.1917 - accuracy: 0.9373 - val_loss: 0.8005 - val_accuracy: 0.7872\n",
            "Epoch 24/30\n",
            "25/25 [==============================] - ETA: 0s - loss: 0.1688 - accuracy: 0.9540\n",
            "Epoch 24: val_accuracy did not improve from 0.81915\n",
            "25/25 [==============================] - 77s 3s/step - loss: 0.1688 - accuracy: 0.9540 - val_loss: 0.9338 - val_accuracy: 0.7624\n",
            "Epoch 25/30\n",
            "25/25 [==============================] - ETA: 0s - loss: 0.2188 - accuracy: 0.9271\n",
            "Epoch 25: val_accuracy did not improve from 0.81915\n",
            "25/25 [==============================] - 72s 3s/step - loss: 0.2188 - accuracy: 0.9271 - val_loss: 0.8403 - val_accuracy: 0.8085\n",
            "Epoch 26/30\n",
            "25/25 [==============================] - ETA: 0s - loss: 0.2195 - accuracy: 0.9309\n",
            "Epoch 26: val_accuracy did not improve from 0.81915\n",
            "25/25 [==============================] - 77s 3s/step - loss: 0.2195 - accuracy: 0.9309 - val_loss: 0.7477 - val_accuracy: 0.8121\n",
            "Epoch 27/30\n",
            "25/25 [==============================] - ETA: 0s - loss: 0.1584 - accuracy: 0.9488\n",
            "Epoch 27: val_accuracy did not improve from 0.81915\n",
            "25/25 [==============================] - 76s 3s/step - loss: 0.1584 - accuracy: 0.9488 - val_loss: 0.7108 - val_accuracy: 0.8191\n",
            "Epoch 28/30\n",
            "25/25 [==============================] - ETA: 0s - loss: 0.1551 - accuracy: 0.9513\n",
            "Epoch 28: val_accuracy did not improve from 0.81915\n",
            "25/25 [==============================] - 70s 3s/step - loss: 0.1551 - accuracy: 0.9513 - val_loss: 0.7058 - val_accuracy: 0.8191\n",
            "Epoch 29/30\n",
            "25/25 [==============================] - ETA: 0s - loss: 0.1561 - accuracy: 0.9540\n",
            "Epoch 29: val_accuracy did not improve from 0.81915\n",
            "25/25 [==============================] - 71s 3s/step - loss: 0.1561 - accuracy: 0.9540 - val_loss: 0.7778 - val_accuracy: 0.8121\n",
            "Epoch 30/30\n",
            "25/25 [==============================] - ETA: 0s - loss: 0.1638 - accuracy: 0.9527\n",
            "Epoch 30: val_accuracy did not improve from 0.81915\n",
            "25/25 [==============================] - 76s 3s/step - loss: 0.1638 - accuracy: 0.9527 - val_loss: 0.7927 - val_accuracy: 0.8014\n",
            "Run time : 48:10\n"
          ]
        }
      ],
      "source": [
        "# Model Fit\n",
        "start_time = time.time()\n",
        "callbacks_list = [checkpoint]\n",
        "history = model.fit(train_generator, validation_data=validation_generator,\n",
        "                    steps_per_epoch=25, epochs=30, callbacks=[callbacks_list])\n",
        "\n",
        "duration = time.time() - start_time\n",
        "minutes = duration // 60\n",
        "seconds = duration % 60\n",
        "print(\"Run time : {:.0f}:{:.0f}\".format(minutes, seconds))"
      ]
    },
    {
      "cell_type": "code",
      "execution_count": null,
      "metadata": {
        "colab": {
          "base_uri": "https://localhost:8080/",
          "height": 905
        },
        "id": "LT0vP_jJjmOY",
        "outputId": "e0f517d4-2964-432d-c3d2-f9b8d59cd0c9"
      },
      "outputs": [
        {
          "output_type": "execute_result",
          "data": {
            "text/plain": [
              "Text(0.5, 1.0, 'Training and validation loss')"
            ]
          },
          "metadata": {},
          "execution_count": 15
        },
        {
          "output_type": "display_data",
          "data": {
            "text/plain": [
              "<Figure size 640x480 with 1 Axes>"
            ],
            "image/png": "[encoded data removed]"
          },
          "metadata": {}
        },
        {
          "output_type": "display_data",
          "data": {
            "text/plain": [
              "<Figure size 640x480 with 1 Axes>"
            ],
            "image/png": "[encoded data removed]"
          },
          "metadata": {}
        }
      ],
      "source": [
        "# Retrieve a list of list results on training and test data\n",
        "# sets for each training epoch\n",
        "acc      = history.history[     'accuracy' ]\n",
        "val_acc  = history.history[ 'val_accuracy' ]\n",
        "loss     = history.history[    'loss' ]\n",
        "val_loss = history.history['val_loss' ]\n",
        "\n",
        "epochs   = range(len(acc)) # Get number of epochs\n",
        "\n",
        "# Plot training and validation accuracy per epoch\n",
        "plt.plot  ( epochs,     acc, label='Training')\n",
        "plt.plot  ( epochs, val_acc, label='Validation')\n",
        "plt.title ('Training and validation accuracy')\n",
        "plt.legend()\n",
        "plt.figure()\n",
        "\n",
        "# Plot training and validation loss per epoch\n",
        "plt.plot  ( epochs,     loss, label='Training')\n",
        "plt.plot  ( epochs, val_loss, label='Validation')\n",
        "plt.legend()\n",
        "plt.title ('Training and validation loss'   )"
      ]
    },
    {
      "cell_type": "code",
      "execution_count": null,
      "metadata": {
        "id": "E3MdIWhkVQv0",
        "colab": {
          "base_uri": "https://localhost:8080/"
        },
        "outputId": "c0a521f3-0e24-4314-8087-9d49ee04d348"
      },
      "outputs": [
        {
          "output_type": "stream",
          "name": "stderr",
          "text": [
            "/usr/local/lib/python3.10/dist-packages/keras/src/engine/training.py:3103: UserWarning: You are saving your model as an HDF5 file via `model.save()`. This file format is considered legacy. We recommend using instead the native Keras format, e.g. `model.save('my_model.keras')`.\n",
            "  saving_api.save_model(\n"
          ]
        }
      ],
      "source": [
        "# Saved the model to H5 format\n",
        "model.save('model.h5')"
      ]
    },
    {
      "cell_type": "code",
      "source": [
        "# H5 model convertion to tflite format\n",
        "model = tf.keras.models.load_model('model.h5')\n",
        "converter = tf.lite.TFLiteConverter.from_keras_model(model)\n",
        "tflite_model = converter.convert()"
      ],
      "metadata": {
        "id": "wDImBMtgJjoh"
      },
      "execution_count": null,
      "outputs": []
    },
    {
      "cell_type": "code",
      "source": [
        "with open('model.tflite', 'wb') as f:\n",
        "    f.write(tflite_model)"
      ],
      "metadata": {
        "id": "KDHiANvyJvAY"
      },
      "execution_count": null,
      "outputs": []
    },
    {
      "cell_type": "markdown",
      "source": [
        "Jika Anda ingin menyimpan model TFLite dengan kuantisasi (misalnya, kuantisasi pasca-latih atau kuantisasi saat latihan), Anda dapat menyesuaikan konverter sesuai dengan kebutuhan Anda. Contoh kuantisasi pasca-latih:\n",
        "\n",
        "python\n",
        "Copy code\n",
        "converter.optimizations = [tf.lite.Optimize.DEFAULT]\n",
        "Jangan lupa untuk menggantikan nama model dan file output sesuai dengan kebutuhan dan preferensi Anda."
      ],
      "metadata": {
        "id": "g9C1P4W-KMdy"
      }
    },
    {
      "cell_type": "code",
      "source": [
        "model_json = model.to_json()\n",
        "with open(\"model.json\",\"w\") as file:\n",
        "  file.write(model_json)"
      ],
      "metadata": {
        "id": "UR5fw5FPOP5N"
      },
      "execution_count": null,
      "outputs": []
    },
    {
      "cell_type": "code",
      "source": [
        "model.save_weights(\"weights.h5\")"
      ],
      "metadata": {
        "id": "TAYKDoj1uAql"
      },
      "execution_count": null,
      "outputs": []
    }
  ],
  "metadata": {
    "colab": {
      "provenance": []
    },
    "kernelspec": {
      "display_name": "Python 3",
      "name": "python3"
    },
    "language_info": {
      "name": "python"
    }
  },
  "nbformat": 4,
  "nbformat_minor": 0
}